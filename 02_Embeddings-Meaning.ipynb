{
 "cells": [
  {
   "cell_type": "markdown",
   "id": "c7e70780",
   "metadata": {},
   "source": [
    "# **Meaning: Imbeddings:**"
   ]
  },
  {
   "cell_type": "markdown",
   "id": "4ff14df4",
   "metadata": {},
   "source": []
  }
 ],
 "metadata": {
  "language_info": {
   "name": "python"
  }
 },
 "nbformat": 4,
 "nbformat_minor": 5
}
